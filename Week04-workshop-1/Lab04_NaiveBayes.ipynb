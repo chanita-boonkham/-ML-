{
  "nbformat": 4,
  "nbformat_minor": 0,
  "metadata": {
    "colab": {
      "provenance": [],
      "include_colab_link": true
    },
    "kernelspec": {
      "name": "python3",
      "display_name": "Python 3"
    },
    "language_info": {
      "name": "python"
    }
  },
  "cells": [
    {
      "cell_type": "markdown",
      "metadata": {
        "id": "view-in-github",
        "colab_type": "text"
      },
      "source": [
        "<a href=\"https://colab.research.google.com/github/chanita-boonkham/-ML-/blob/main/Week04-workshop-1/Lab04_NaiveBayes.ipynb\" target=\"_parent\"><img src=\"https://colab.research.google.com/assets/colab-badge.svg\" alt=\"Open In Colab\"/></a>"
      ]
    },
    {
      "cell_type": "code",
      "source": [
        "import numpy as np #จัดการ metric vector\n",
        "import pandas as pd\n",
        "import matplotlib.pyplot as plt #กราฟ\n",
        "import math"
      ],
      "metadata": {
        "id": "9A3_DyZm2gel"
      },
      "execution_count": 20,
      "outputs": []
    },
    {
      "cell_type": "code",
      "source": [
        "def accuracy_score(y_true, y_pred):\n",
        "\n",
        "\t\"\"\"\tscore = (y_true - y_pred) / len(y_true) \"\"\"\n",
        "\n",
        "\treturn round(float(sum(y_pred == y_true))/float(len(y_true)) * 100 ,2) #ทศนิมยม 2 ตน,นับจำนวนที่เหมือนกัน เป็นเศษส่วน แล้วคูณร้อย"
      ],
      "metadata": {
        "id": "U_Y_GcJH2iNC"
      },
      "execution_count": 21,
      "outputs": []
    },
    {
      "cell_type": "code",
      "source": [
        "y_pred = np.array([0,0,1,1,0,1])\n",
        "y_true = np.array([0,0,0,0,0,1])\n",
        "accuracy_score(y_true, y_pred)\n",
        "print(\"accuracy score = \", accuracy_score(y_true, y_pred))"
      ],
      "metadata": {
        "colab": {
          "base_uri": "https://localhost:8080/"
        },
        "id": "37rZsR25SwIO",
        "outputId": "976411ee-4eda-4ad6-ff35-633ffe685045"
      },
      "execution_count": 22,
      "outputs": [
        {
          "output_type": "stream",
          "name": "stdout",
          "text": [
            "accuracy score =  66.67\n"
          ]
        }
      ]
    },
    {
      "cell_type": "code",
      "source": [
        "def pre_processing(df):\n",
        "  \"\"\" partioning data into features(X) and target(Y) \"\"\"\n",
        "  df = df.drop([df.columns[0]], axis = 1) #df = data frame, ตัด day ออก(drop)\n",
        "  print(df.head())\n",
        "\n",
        "  X = df.drop([df.columns[-1]], axis = 1) #-1 คือ ทางขวาสุด กลับหลัง , ตัดคอลัมน์สุดท้ายออก ไม่เอา yes no playtennis\n",
        "  y = df[df.columns[-1]]\n",
        "  return X, y\n"
      ],
      "metadata": {
        "id": "CSPPWWhM2kak"
      },
      "execution_count": 23,
      "outputs": []
    },
    {
      "cell_type": "code",
      "execution_count": 24,
      "metadata": {
        "id": "eTdYNFv81jU_"
      },
      "outputs": [],
      "source": [
        "class  NaiveBayes: #class คือการเขียนโปรแกรมที่มีฟังก์ชันในตัวมัน\n",
        "\n",
        "\t\"\"\"\n",
        "\t\tBayes Theorem:\n",
        "\t\t\t\t\t\t\t\t\t\t               Likelihood * Class prior probability\n",
        "\t\t\t\tPosterior Probability = -------------------------------------\n",
        "\t\t\t\t\t\t\t\t\t\t\t               Predictor prior probability\n",
        "\n",
        "\t\t\t\t\t\t\t  \t\t\t          P(x|c) * p(c)\n",
        "\t\t\t\t\t\t\t   P(c|x) = ------------------\n",
        "\t\t\t\t\t\t\t\t\t\t\t                P(x)\n",
        "\t\"\"\"\n",
        "\n",
        "\tdef __init__(self): # ในไพทอน __ คือ ฟังก์ชันของไพทอนเอง ไม่ได้สร้างมา\n",
        "\n",
        "\t\t\"\"\"\n",
        "\t\t\tAttributes:\n",
        "\t\t\t\tlikelihoods: Likelihood of each feature per class\n",
        "\t\t\t\tclass_priors: Prior probabilities of classes\n",
        "\t\t\t\tpred_priors: Prior probabilities of features\n",
        "\t\t\t\tfeatures: All features of dataset\n",
        "\t\t\"\"\"\n",
        "\t\tself.features = list\n",
        "\t\tself.likelihoods = {} #dictionary json {'id','123'}\n",
        "\t\tself.class_priors = {}\n",
        "\t\tself.pred_priors = {} #evidence\n",
        "\n",
        "\t\tself.X_train = np.array\n",
        "\t\tself.y_train = np.array\n",
        "\t\tself.train_size = int\n",
        "\t\tself.num_feats = int\n",
        "\n",
        "\tdef fit(self, X, y): #fit คือ train\n",
        "\n",
        "\t\tself.features = list(X.columns)\n",
        "\t\tself.X_train = X\n",
        "\t\tself.y_train = y\n",
        "\t\tself.train_size = X.shape[0]\n",
        "\t\tself.num_feats = X.shape[1]\n",
        "\n",
        "\t\tfor feature in self.features: #จากแต่ละ feature\n",
        "\t\t\tself.likelihoods[feature] = {} #มี feature เก็บใน likelihood\n",
        "\t\t\tself.pred_priors[feature] = {}\n",
        "\n",
        "\t\t\tfor feat_val in np.unique(self.X_train[feature]):\n",
        "\t\t\t\tself.pred_priors[feature].update({feat_val: 0})\n",
        "\n",
        "\t\t\t\tfor outcome in np.unique(self.y_train):\n",
        "\t\t\t\t\tself.likelihoods[feature].update({feat_val+'_'+outcome:0})\n",
        "\t\t\t\t\tself.class_priors.update({outcome: 0})\n",
        "\n",
        "\t\tself._calc_class_prior()\n",
        "\t\tself._calc_likelihoods()\n",
        "\t\tself._calc_predictor_prior() #evidence\n",
        "\n",
        "\tdef _calc_class_prior(self):\n",
        "\n",
        "\t\t\"\"\" P(c) - Prior Class Probability \"\"\"\n",
        "\n",
        "\t\tfor outcome in np.unique(self.y_train):\n",
        "\t\t\toutcome_count = sum(self.y_train == outcome)\n",
        "\t\t\tself.class_priors[outcome] = outcome_count / self.train_size\n",
        "\n",
        "\tdef _calc_likelihoods(self):\n",
        "\n",
        "\t\t\"\"\" P(x|c) - Likelihood \"\"\"\n",
        "\n",
        "\t\tfor feature in self.features:\n",
        "\n",
        "\t\t\tfor outcome in np.unique(self.y_train):\n",
        "\t\t\t\toutcome_count = sum(self.y_train == outcome)\n",
        "\t\t\t\tfeat_likelihood = self.X_train[feature][self.y_train[self.y_train == outcome].index.values.tolist()].value_counts().to_dict()\n",
        "\n",
        "\t\t\t\tfor feat_val, count in feat_likelihood.items():\n",
        "\t\t\t\t\tself.likelihoods[feature][feat_val + '_' + outcome] = count/outcome_count\n",
        "\n",
        "\n",
        "\tdef _calc_predictor_prior(self):\n",
        "\n",
        "\t\t\"\"\" P(x) - Evidence \"\"\"\n",
        "\n",
        "\t\tfor feature in self.features:\n",
        "\t\t\tfeat_vals = self.X_train[feature].value_counts().to_dict()\n",
        "\n",
        "\t\t\tfor feat_val, count in feat_vals.items():\n",
        "\t\t\t\tself.pred_priors[feature][feat_val] = count/self.train_size\n",
        "\n",
        "\n",
        "\tdef predict(self, X):\n",
        "\n",
        "\t\t\"\"\" Calculates Posterior probability P(c|x) \"\"\"\n",
        "\n",
        "\t\tresults = []\n",
        "\t\tX = np.array(X)\n",
        "\n",
        "\t\tfor query in X:\n",
        "\t\t\tprobs_outcome = {}\n",
        "\t\t\tfor outcome in np.unique(self.y_train):\n",
        "\t\t\t\tprior = self.class_priors[outcome]\n",
        "\t\t\t\tlikelihood = 1\n",
        "\t\t\t\tevidence = 1\n",
        "\n",
        "\t\t\t\tfor feat, feat_val in zip(self.features, query):\n",
        "\t\t\t\t\tlikelihood *= self.likelihoods[feat][feat_val + '_' + outcome]\n",
        "\t\t\t\t\tevidence *= self.pred_priors[feat][feat_val]\n",
        "\n",
        "\t\t\t\tposterior = (likelihood * prior) / (evidence)\n",
        "\n",
        "\t\t\t\tprobs_outcome[outcome] = posterior\n",
        "\n",
        "\t\t\tresult = max(probs_outcome, key = lambda x: probs_outcome[x])\n",
        "\t\t\tresults.append(result)\n",
        "\n",
        "\t\treturn np.array(results)\n",
        "\n",
        "\n"
      ]
    },
    {
      "cell_type": "code",
      "source": [
        "if __name__ == \"__main__\":\n",
        "\n",
        "    #Weather Dataset\n",
        "    print(\"\\nWeather Dataset:\")\n",
        "\n",
        "    df = pd.read_csv(\"https://raw.githubusercontent.com/ekaratnida/Applied-machine-learning/master/Week10-desicion-tree/PlayTennis.csv\")\n",
        "    print(df.head())\n",
        "\n",
        "    #Split fearures and target\n",
        "    X,y  = pre_processing(df) #ในฟัันมีรีเทิน X,y เราก็ต้องไปรับอันนี้\n",
        "    print(\"X.head()\")\n",
        "    print(X.head())\n",
        "    print('***********************Begin Pre Processing************************')\n",
        "    print(\"y.head()\")\n",
        "    print(y.head())\n",
        "\n",
        "    nb_clf = NaiveBayes()\n",
        "    nb_clf.fit(X, y)\n",
        "\n",
        "    print(\"\\nTrain Accuracy: {}\".format(accuracy_score(y, nb_clf.predict(X))))\n",
        "\n",
        "    #Query 1:\n",
        "    query = np.array([['Rain','Mild', 'Normal', 'Strong']])\n",
        "    print(\"Query 1:- {} ---> {}\".format(query, nb_clf.predict(query)))\n",
        "\n",
        "    #Query 2:\n",
        "    query = np.array([['Overcast','Cool', 'Normal', 'Strong']])\n",
        "    print(\"Query 2:- {} ---> {}\".format(query, nb_clf.predict(query)))\n",
        "\n",
        "    #Query 3:\n",
        "    query = np.array([['Sunny','Hot', 'High', 'Strong']])\n",
        "    print(\"Query 3:- {} ---> {}\".format(query, nb_clf.predict(query)))"
      ],
      "metadata": {
        "colab": {
          "base_uri": "https://localhost:8080/"
        },
        "id": "WMFl0wgW2wgb",
        "outputId": "9a98659c-42c9-4249-e4df-d3ee452138db"
      },
      "execution_count": 29,
      "outputs": [
        {
          "output_type": "stream",
          "name": "stdout",
          "text": [
            "\n",
            "Weather Dataset:\n",
            "  Day   Outlook Temperature Humidity    Wind Play_Tennis\n",
            "0  D1     Sunny         Hot     High    Weak          No\n",
            "1  D2     Sunny         Hot     High  Strong          No\n",
            "2  D3  Overcast         Hot     High    Weak         Yes\n",
            "3  D4      Rain        Mild     High    Weak         Yes\n",
            "4  D5      Rain        Cool   Normal    Weak         Yes\n",
            "    Outlook Temperature Humidity    Wind Play_Tennis\n",
            "0     Sunny         Hot     High    Weak          No\n",
            "1     Sunny         Hot     High  Strong          No\n",
            "2  Overcast         Hot     High    Weak         Yes\n",
            "3      Rain        Mild     High    Weak         Yes\n",
            "4      Rain        Cool   Normal    Weak         Yes\n",
            "X.head()\n",
            "    Outlook Temperature Humidity    Wind\n",
            "0     Sunny         Hot     High    Weak\n",
            "1     Sunny         Hot     High  Strong\n",
            "2  Overcast         Hot     High    Weak\n",
            "3      Rain        Mild     High    Weak\n",
            "4      Rain        Cool   Normal    Weak\n",
            "***********************Begin Pre Processing************************\n",
            "y.head()\n",
            "0     No\n",
            "1     No\n",
            "2    Yes\n",
            "3    Yes\n",
            "4    Yes\n",
            "Name: Play_Tennis, dtype: object\n",
            "\n",
            "Train Accuracy: 92.86\n",
            "Query 1:- [['Rain' 'Mild' 'Normal' 'Strong']] ---> ['Yes']\n",
            "Query 2:- [['Overcast' 'Cool' 'Normal' 'Strong']] ---> ['Yes']\n",
            "Query 3:- [['Sunny' 'Hot' 'High' 'Strong']] ---> ['No']\n"
          ]
        }
      ]
    }
  ]
}